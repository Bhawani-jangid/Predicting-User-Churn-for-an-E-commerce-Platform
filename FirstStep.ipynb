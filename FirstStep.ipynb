{
 "cells": [
  {
   "cell_type": "code",
   "execution_count": 1,
   "id": "b97ce664-49b4-4c31-842c-5914db3fc28e",
   "metadata": {},
   "outputs": [],
   "source": [
    "# Import necessary libraries\n",
    "import pandas as pd\n",
    "import numpy as np\n",
    "import matplotlib.pyplot as plt\n",
    "import seaborn as sns"
   ]
  },
  {
   "cell_type": "code",
   "execution_count": 2,
   "id": "3fb3260b-90eb-4b91-bf6f-ae3ccc40b435",
   "metadata": {},
   "outputs": [],
   "source": [
    "# Load the dataset\n",
    "# Update the file path as per your local setup\n",
    "file_path = r\"C:\\Users\\bhawa\\Projects\\interview\\firstpro\\events.csv\"\n",
    "df = pd.read_csv(file_path)\n"
   ]
  },
  {
   "cell_type": "code",
   "execution_count": 6,
   "id": "bd7471c3-2574-4408-9361-71d3f081ce37",
   "metadata": {},
   "outputs": [
    {
     "name": "stdout",
     "output_type": "stream",
     "text": [
      "Dataset Preview:\n"
     ]
    },
    {
     "data": {
      "text/html": [
       "<div>\n",
       "<style scoped>\n",
       "    .dataframe tbody tr th:only-of-type {\n",
       "        vertical-align: middle;\n",
       "    }\n",
       "\n",
       "    .dataframe tbody tr th {\n",
       "        vertical-align: top;\n",
       "    }\n",
       "\n",
       "    .dataframe thead th {\n",
       "        text-align: right;\n",
       "    }\n",
       "</style>\n",
       "<table border=\"1\" class=\"dataframe\">\n",
       "  <thead>\n",
       "    <tr style=\"text-align: right;\">\n",
       "      <th></th>\n",
       "      <th>event_time</th>\n",
       "      <th>event_type</th>\n",
       "      <th>product_id</th>\n",
       "      <th>category_id</th>\n",
       "      <th>category_code</th>\n",
       "      <th>brand</th>\n",
       "      <th>price</th>\n",
       "      <th>user_id</th>\n",
       "      <th>user_session</th>\n",
       "    </tr>\n",
       "  </thead>\n",
       "  <tbody>\n",
       "    <tr>\n",
       "      <th>885119</th>\n",
       "      <td>2021-02-28 23:51:08 UTC</td>\n",
       "      <td>view</td>\n",
       "      <td>733804</td>\n",
       "      <td>2144415958968565847</td>\n",
       "      <td>appliances.kitchen.juicer</td>\n",
       "      <td>NaN</td>\n",
       "      <td>35.00</td>\n",
       "      <td>1515915625611023253</td>\n",
       "      <td>ds44R7DkhX</td>\n",
       "    </tr>\n",
       "    <tr>\n",
       "      <th>885120</th>\n",
       "      <td>2021-02-28 23:51:25 UTC</td>\n",
       "      <td>view</td>\n",
       "      <td>622796</td>\n",
       "      <td>2144415922738167921</td>\n",
       "      <td>computers.components.cdrw</td>\n",
       "      <td>asus</td>\n",
       "      <td>147.38</td>\n",
       "      <td>1515915625572947504</td>\n",
       "      <td>LJ4H6CRcME</td>\n",
       "    </tr>\n",
       "    <tr>\n",
       "      <th>885121</th>\n",
       "      <td>2021-02-28 23:51:25 UTC</td>\n",
       "      <td>view</td>\n",
       "      <td>622796</td>\n",
       "      <td>2144415922738167921</td>\n",
       "      <td>computers.components.cdrw</td>\n",
       "      <td>asus</td>\n",
       "      <td>147.38</td>\n",
       "      <td>1515915625572947504</td>\n",
       "      <td>SqlXaC3Wrw</td>\n",
       "    </tr>\n",
       "    <tr>\n",
       "      <th>885122</th>\n",
       "      <td>2021-02-28 23:53:13 UTC</td>\n",
       "      <td>view</td>\n",
       "      <td>4079420</td>\n",
       "      <td>2144415922427789416</td>\n",
       "      <td>computers.components.videocards</td>\n",
       "      <td>msi</td>\n",
       "      <td>449.51</td>\n",
       "      <td>1515915625611023581</td>\n",
       "      <td>zrl0oKrysT</td>\n",
       "    </tr>\n",
       "    <tr>\n",
       "      <th>885123</th>\n",
       "      <td>2021-02-28 23:54:18 UTC</td>\n",
       "      <td>view</td>\n",
       "      <td>3829355</td>\n",
       "      <td>2144415922528452715</td>\n",
       "      <td>electronics.telephone</td>\n",
       "      <td>NaN</td>\n",
       "      <td>32.22</td>\n",
       "      <td>1515915625611023671</td>\n",
       "      <td>wZb7gP1zgN</td>\n",
       "    </tr>\n",
       "    <tr>\n",
       "      <th>885124</th>\n",
       "      <td>2021-02-28 23:55:01 UTC</td>\n",
       "      <td>view</td>\n",
       "      <td>953226</td>\n",
       "      <td>2144415927553229037</td>\n",
       "      <td>NaN</td>\n",
       "      <td>NaN</td>\n",
       "      <td>219.94</td>\n",
       "      <td>1515915625611023730</td>\n",
       "      <td>FRLqIttxKU</td>\n",
       "    </tr>\n",
       "    <tr>\n",
       "      <th>885125</th>\n",
       "      <td>2021-02-28 23:58:05 UTC</td>\n",
       "      <td>view</td>\n",
       "      <td>1715907</td>\n",
       "      <td>2144415927049912542</td>\n",
       "      <td>electronics.video.tv</td>\n",
       "      <td>starwind</td>\n",
       "      <td>80.03</td>\n",
       "      <td>1515915625611024014</td>\n",
       "      <td>g6WqPf50Ma</td>\n",
       "    </tr>\n",
       "    <tr>\n",
       "      <th>885126</th>\n",
       "      <td>2021-02-28 23:58:09 UTC</td>\n",
       "      <td>view</td>\n",
       "      <td>4170534</td>\n",
       "      <td>2144415939364389423</td>\n",
       "      <td>electronics.clocks</td>\n",
       "      <td>amazfit</td>\n",
       "      <td>64.92</td>\n",
       "      <td>1515915625611024020</td>\n",
       "      <td>xNIJBqZdkd</td>\n",
       "    </tr>\n",
       "    <tr>\n",
       "      <th>885127</th>\n",
       "      <td>2021-02-28 23:58:14 UTC</td>\n",
       "      <td>view</td>\n",
       "      <td>888273</td>\n",
       "      <td>2144415921932861531</td>\n",
       "      <td>electronics.telephone</td>\n",
       "      <td>NaN</td>\n",
       "      <td>10.16</td>\n",
       "      <td>1515915625611024030</td>\n",
       "      <td>9pCbKMIcSx</td>\n",
       "    </tr>\n",
       "    <tr>\n",
       "      <th>885128</th>\n",
       "      <td>2021-02-28 23:59:09 UTC</td>\n",
       "      <td>view</td>\n",
       "      <td>743182</td>\n",
       "      <td>2144415935631458761</td>\n",
       "      <td>construction.tools.soldering</td>\n",
       "      <td>kada</td>\n",
       "      <td>65.08</td>\n",
       "      <td>1515915625556087775</td>\n",
       "      <td>BejOXRngEW</td>\n",
       "    </tr>\n",
       "  </tbody>\n",
       "</table>\n",
       "</div>"
      ],
      "text/plain": [
       "                     event_time event_type  product_id          category_id  \\\n",
       "885119  2021-02-28 23:51:08 UTC       view      733804  2144415958968565847   \n",
       "885120  2021-02-28 23:51:25 UTC       view      622796  2144415922738167921   \n",
       "885121  2021-02-28 23:51:25 UTC       view      622796  2144415922738167921   \n",
       "885122  2021-02-28 23:53:13 UTC       view     4079420  2144415922427789416   \n",
       "885123  2021-02-28 23:54:18 UTC       view     3829355  2144415922528452715   \n",
       "885124  2021-02-28 23:55:01 UTC       view      953226  2144415927553229037   \n",
       "885125  2021-02-28 23:58:05 UTC       view     1715907  2144415927049912542   \n",
       "885126  2021-02-28 23:58:09 UTC       view     4170534  2144415939364389423   \n",
       "885127  2021-02-28 23:58:14 UTC       view      888273  2144415921932861531   \n",
       "885128  2021-02-28 23:59:09 UTC       view      743182  2144415935631458761   \n",
       "\n",
       "                          category_code     brand   price  \\\n",
       "885119        appliances.kitchen.juicer       NaN   35.00   \n",
       "885120        computers.components.cdrw      asus  147.38   \n",
       "885121        computers.components.cdrw      asus  147.38   \n",
       "885122  computers.components.videocards       msi  449.51   \n",
       "885123            electronics.telephone       NaN   32.22   \n",
       "885124                              NaN       NaN  219.94   \n",
       "885125             electronics.video.tv  starwind   80.03   \n",
       "885126               electronics.clocks   amazfit   64.92   \n",
       "885127            electronics.telephone       NaN   10.16   \n",
       "885128     construction.tools.soldering      kada   65.08   \n",
       "\n",
       "                    user_id user_session  \n",
       "885119  1515915625611023253   ds44R7DkhX  \n",
       "885120  1515915625572947504   LJ4H6CRcME  \n",
       "885121  1515915625572947504   SqlXaC3Wrw  \n",
       "885122  1515915625611023581   zrl0oKrysT  \n",
       "885123  1515915625611023671   wZb7gP1zgN  \n",
       "885124  1515915625611023730   FRLqIttxKU  \n",
       "885125  1515915625611024014   g6WqPf50Ma  \n",
       "885126  1515915625611024020   xNIJBqZdkd  \n",
       "885127  1515915625611024030   9pCbKMIcSx  \n",
       "885128  1515915625556087775   BejOXRngEW  "
      ]
     },
     "execution_count": 6,
     "metadata": {},
     "output_type": "execute_result"
    }
   ],
   "source": [
    "# Display the first few rows of the dataset\n",
    "print(\"Dataset Preview:\")\n",
    "df.tail(10)"
   ]
  },
  {
   "cell_type": "code",
   "execution_count": 7,
   "id": "35309dfd-f51d-4311-bcc8-fca16a6ad904",
   "metadata": {},
   "outputs": [
    {
     "name": "stdout",
     "output_type": "stream",
     "text": [
      "\n",
      "Dataset Information:\n",
      "<class 'pandas.core.frame.DataFrame'>\n",
      "RangeIndex: 885129 entries, 0 to 885128\n",
      "Data columns (total 9 columns):\n",
      " #   Column         Non-Null Count   Dtype  \n",
      "---  ------         --------------   -----  \n",
      " 0   event_time     885129 non-null  object \n",
      " 1   event_type     885129 non-null  object \n",
      " 2   product_id     885129 non-null  int64  \n",
      " 3   category_id    885129 non-null  int64  \n",
      " 4   category_code  648910 non-null  object \n",
      " 5   brand          672765 non-null  object \n",
      " 6   price          885129 non-null  float64\n",
      " 7   user_id        885129 non-null  int64  \n",
      " 8   user_session   884964 non-null  object \n",
      "dtypes: float64(1), int64(3), object(5)\n",
      "memory usage: 60.8+ MB\n"
     ]
    }
   ],
   "source": [
    "# Check dataset information\n",
    "print(\"\\nDataset Information:\")\n",
    "df.info()"
   ]
  },
  {
   "cell_type": "code",
   "execution_count": 9,
   "id": "14b40c85-e798-44ab-a0cb-7fbd21d1a89c",
   "metadata": {},
   "outputs": [
    {
     "name": "stdout",
     "output_type": "stream",
     "text": [
      "\n",
      "Missing Values:\n",
      "event_time            0\n",
      "event_type            0\n",
      "product_id            0\n",
      "category_id           0\n",
      "category_code    236219\n",
      "brand            212364\n",
      "price                 0\n",
      "user_id               0\n",
      "user_session        165\n",
      "dtype: int64\n"
     ]
    }
   ],
   "source": [
    "# Check for missing values\n",
    "print(\"\\nMissing Values:\")\n",
    "print(df.isnull().sum())"
   ]
  },
  {
   "cell_type": "code",
   "execution_count": 9,
   "id": "228e7047-118b-4a70-b400-1779b4c2d2f6",
   "metadata": {},
   "outputs": [],
   "source": [
    "# Handle missing values\n",
    "# For 'category_code' and 'brand', we can fill missing values with 'Unknown' or mode, depending on business logic\n",
    "df['category_code'] = df['category_code'].fillna('Unknown')\n",
    "df['brand'] = df['brand'].fillna('Unknown')\n",
    "df['user_session'] = df['user_session'].fillna('Unknown_Session')"
   ]
  },
  {
   "cell_type": "code",
   "execution_count": 10,
   "id": "e9a510b2-7d05-46e0-8e92-8e019cb9494e",
   "metadata": {},
   "outputs": [
    {
     "name": "stdout",
     "output_type": "stream",
     "text": [
      "\n",
      "Number of duplicate rows before removal: 655\n",
      "Number of duplicate rows after removal: 0\n"
     ]
    }
   ],
   "source": [
    "# Handle duplicates\n",
    "print(\"\\nNumber of duplicate rows before removal:\", df.duplicated().sum())\n",
    "df = df.drop_duplicates()\n",
    "print(\"Number of duplicate rows after removal:\", df.duplicated().sum())\n"
   ]
  },
  {
   "cell_type": "code",
   "execution_count": 11,
   "id": "60f18f0d-ce2f-48d8-8ac1-556602f1dd05",
   "metadata": {},
   "outputs": [
    {
     "name": "stdout",
     "output_type": "stream",
     "text": [
      "0         2020-09-24 11:57:06 UTC\n",
      "1         2020-09-24 11:57:26 UTC\n",
      "2         2020-09-24 11:57:27 UTC\n",
      "3         2020-09-24 11:57:33 UTC\n",
      "4         2020-09-24 11:57:36 UTC\n",
      "                   ...           \n",
      "885124    2021-02-28 23:55:01 UTC\n",
      "885125    2021-02-28 23:58:05 UTC\n",
      "885126    2021-02-28 23:58:09 UTC\n",
      "885127    2021-02-28 23:58:14 UTC\n",
      "885128    2021-02-28 23:59:09 UTC\n",
      "Name: event_time, Length: 884474, dtype: object\n",
      "0        2020-09-24 11:57:06+00:00\n",
      "1        2020-09-24 11:57:26+00:00\n",
      "2        2020-09-24 11:57:27+00:00\n",
      "3        2020-09-24 11:57:33+00:00\n",
      "4        2020-09-24 11:57:36+00:00\n",
      "                    ...           \n",
      "885124   2021-02-28 23:55:01+00:00\n",
      "885125   2021-02-28 23:58:05+00:00\n",
      "885126   2021-02-28 23:58:09+00:00\n",
      "885127   2021-02-28 23:58:14+00:00\n",
      "885128   2021-02-28 23:59:09+00:00\n",
      "Name: event_time, Length: 884474, dtype: datetime64[ns, UTC]\n"
     ]
    }
   ],
   "source": [
    "# Convert event_time to datetime\n",
    "print(df['event_time'])\n",
    "df['event_time'] = pd.to_datetime(df['event_time'])\n",
    "print(df['event_time'])"
   ]
  },
  {
   "cell_type": "code",
   "execution_count": 12,
   "id": "4166a838-ddb5-4835-abe7-d8cfcbddc19e",
   "metadata": {},
   "outputs": [],
   "source": [
    "# Extract additional features from event_time\n",
    "df['event_date'] = df['event_time'].dt.date\n",
    "df['event_hour'] = df['event_time'].dt.hour\n",
    "df['event_day_of_week'] = df['event_time'].dt.dayofweek\n"
   ]
  },
  {
   "cell_type": "code",
   "execution_count": 13,
   "id": "06652c5d-7790-470f-8fd8-eb415611bceb",
   "metadata": {},
   "outputs": [
    {
     "name": "stdout",
     "output_type": "stream",
     "text": [
      "\n",
      "Summary Statistics:\n",
      "                                 event_time event_type    product_id  \\\n",
      "count                                884474     884474  8.844740e+05   \n",
      "unique                                  NaN          3           NaN   \n",
      "top                                     NaN       view           NaN   \n",
      "freq                                    NaN     793099           NaN   \n",
      "mean    2020-12-14 11:06:15.243217408+00:00        NaN  1.906840e+06   \n",
      "min               2020-09-24 11:57:06+00:00        NaN  1.020000e+02   \n",
      "25%     2020-11-05 20:50:18.249999872+00:00        NaN  6.988030e+05   \n",
      "50%               2020-12-14 15:34:45+00:00        NaN  1.452884e+06   \n",
      "75%        2021-01-23 07:20:05.500000+00:00        NaN  3.721194e+06   \n",
      "max               2021-02-28 23:59:09+00:00        NaN  4.183880e+06   \n",
      "std                                     NaN        NaN  1.458710e+06   \n",
      "\n",
      "         category_id category_code    brand          price       user_id  \\\n",
      "count   8.844740e+05        884474   884474  884474.000000  8.844740e+05   \n",
      "unique           NaN           108     1000            NaN           NaN   \n",
      "top              NaN       Unknown  Unknown            NaN           NaN   \n",
      "freq             NaN        236047   212232            NaN           NaN   \n",
      "mean    2.144423e+18           NaN      NaN     146.331556  1.515916e+18   \n",
      "min     2.144416e+18           NaN      NaN       0.220000  1.515916e+18   \n",
      "25%     2.144416e+18           NaN      NaN      26.460000  1.515916e+18   \n",
      "50%     2.144416e+18           NaN      NaN      65.710000  1.515916e+18   \n",
      "75%     2.144416e+18           NaN      NaN     190.540000  1.515916e+18   \n",
      "max     2.227847e+18           NaN      NaN   64771.060000  1.515916e+18   \n",
      "std     6.167387e+14           NaN      NaN     296.864505  3.554304e+07   \n",
      "\n",
      "       user_session  event_date     event_hour  event_day_of_week  \n",
      "count        884474      884474  884474.000000      884474.000000  \n",
      "unique       490399         158            NaN                NaN  \n",
      "top      nFlhu5QzOd  2020-11-18            NaN                NaN  \n",
      "freq            572        8024            NaN                NaN  \n",
      "mean            NaN         NaN      12.415187           2.933131  \n",
      "min             NaN         NaN       0.000000           0.000000  \n",
      "25%             NaN         NaN       8.000000           1.000000  \n",
      "50%             NaN         NaN      12.000000           3.000000  \n",
      "75%             NaN         NaN      17.000000           5.000000  \n",
      "max             NaN         NaN      23.000000           6.000000  \n",
      "std             NaN         NaN       5.457192           2.004495  \n"
     ]
    }
   ],
   "source": [
    "# Summary statistics\n",
    "print(\"\\nSummary Statistics:\")\n",
    "print(df.describe(include='all'))"
   ]
  },
  {
   "cell_type": "code",
   "execution_count": 14,
   "id": "50395414-3d43-49ea-830c-61d5ea1fe4f7",
   "metadata": {},
   "outputs": [
    {
     "name": "stdout",
     "output_type": "stream",
     "text": [
      "\n",
      "Event Type Distribution:\n",
      "event_type\n",
      "view        793099\n",
      "cart         54032\n",
      "purchase     37343\n",
      "Name: count, dtype: int64\n"
     ]
    },
    {
     "data": {
      "image/png": "[encoded data removed]",
      "text/plain": [
       "<Figure size 640x480 with 1 Axes>"
      ]
     },
     "metadata": {},
     "output_type": "display_data"
    }
   ],
   "source": [
    "# Explore event_type distribution\n",
    "print(\"\\nEvent Type Distribution:\")\n",
    "print(df['event_type'].value_counts())\n",
    "sns.countplot(data=df, x='event_type')\n",
    "plt.title(\"Distribution of Event Types\")\n",
    "plt.show()"
   ]
  },
  {
   "cell_type": "code",
   "execution_count": 21,
   "id": "88b0f376-ed14-48a0-82b3-2407521dc622",
   "metadata": {},
   "outputs": [
    {
     "name": "stdout",
     "output_type": "stream",
     "text": [
      "\n",
      "Top 10 Brands by Frequency:\n",
      "brand\n",
      "Unknown        212232\n",
      "asus            27660\n",
      "gigabyte        27652\n",
      "msi             24864\n",
      "palit           24787\n",
      "samsung         23188\n",
      "amd             20095\n",
      "canon           18430\n",
      "panasonic       11977\n",
      "pioneer         11463\n",
      "sirius          11406\n",
      "hp              11182\n",
      "sapphire        10376\n",
      "asrock           9637\n",
      "bosch            8198\n",
      "palmexx          7919\n",
      "topon            7542\n",
      "bbk              7452\n",
      "epson            7246\n",
      "xiaomi           7128\n",
      "sony             6773\n",
      "lg               6721\n",
      "kitfort          6384\n",
      "pitatel          6109\n",
      "digma            6009\n",
      "acv              5938\n",
      "cactus           5663\n",
      "cameronsino      5611\n",
      "philips          5354\n",
      "intel            5199\n",
      "janome           5159\n",
      "edifier          4859\n",
      "logitech         4830\n",
      "smartbuy         4793\n",
      "redmond          4724\n",
      "bort             4652\n",
      "powercolor       4239\n",
      "ritmix           4234\n",
      "zalman           4218\n",
      "mobilepc         3878\n",
      "deepcool         3849\n",
      "starwind         3679\n",
      "nv-print         3642\n",
      "hama             3598\n",
      "pantum           3516\n",
      "aerocool         3512\n",
      "jvc              3370\n",
      "huawei           3365\n",
      "pocketbook       3312\n",
      "hyundai          3247\n",
      "Name: count, dtype: int64\n"
     ]
    },
    {
     "data": {
      "image/png": "[encoded data removed]",
      "text/plain": [
       "<Figure size 640x480 with 1 Axes>"
      ]
     },
     "metadata": {},
     "output_type": "display_data"
    }
   ],
   "source": [
    "# Explore brand distribution\n",
    "top_brands = df['brand'].value_counts().head(50)\n",
    "print(\"\\nTop 10 Brands by Frequency:\")\n",
    "print(top_brands)\n",
    "top_brands.plot(kind='bar', title=\"Top 10 Brands\", color='skyblue')\n",
    "plt.show()"
   ]
  },
  {
   "cell_type": "code",
   "execution_count": 25,
   "id": "cd3a451c-45a9-4c36-b73b-13cf48a4ad07",
   "metadata": {},
   "outputs": [
    {
     "name": "stdout",
     "output_type": "stream",
     "text": [
      "0          31.90\n",
      "1          17.16\n",
      "2           9.81\n",
      "3         113.81\n",
      "4          15.87\n",
      "           ...  \n",
      "885124    219.94\n",
      "885125     80.03\n",
      "885126     64.92\n",
      "885127     10.16\n",
      "885128     65.08\n",
      "Name: price, Length: 884474, dtype: float64\n",
      "\n",
      "Price Distribution:\n"
     ]
    },
    {
     "data": {
      "image/png": "[encoded data removed]",
      "text/plain": [
       "<Figure size 640x480 with 1 Axes>"
      ]
     },
     "metadata": {},
     "output_type": "display_data"
    }
   ],
   "source": [
    "# Explore price distribution\n",
    "print(df['price'])\n",
    "print(\"\\nPrice Distribution:\")\n",
    "sns.histplot(df['price'], bins=50, kde=True)\n",
    "plt.title(\"Price Distribution\")\n",
    "plt.xlabel(\"Price\")\n",
    "plt.ylabel(\"Frequency\")\n",
    "plt.show()"
   ]
  },
  {
   "cell_type": "code",
   "execution_count": 26,
   "id": "11e48500-b4f9-4bba-8371-f9712f266bbe",
   "metadata": {},
   "outputs": [
    {
     "name": "stdout",
     "output_type": "stream",
     "text": [
      "\n",
      "User Activity Summary (Top 10 Users by Activity):\n",
      "user_id\n",
      "1515915625554995474    572\n",
      "1515915625527763086    424\n",
      "1515915625591251010    363\n",
      "1515915625591659523    339\n",
      "1515915625537803839    329\n",
      "1515915625568273951    312\n",
      "1515915625599852988    288\n",
      "1515915625598794428    260\n",
      "1515915625536567608    259\n",
      "1515915625593948004    246\n",
      "Name: event_type, dtype: int64\n"
     ]
    }
   ],
   "source": [
    "# Check user activity levels\n",
    "user_activity = df.groupby('user_id')['event_type'].count().sort_values(ascending=False)\n",
    "print(\"\\nUser Activity Summary (Top 10 Users by Activity):\")\n",
    "print(user_activity.head(10))\n"
   ]
  },
  {
   "cell_type": "code",
   "execution_count": 28,
   "id": "df7b5cbc-47f0-46b3-9cd6-049aa3518e68",
   "metadata": {},
   "outputs": [
    {
     "name": "stdout",
     "output_type": "stream",
     "text": [
      "\n",
      "Cleaned dataset saved as 'cleaned_events.csv'\n"
     ]
    }
   ],
   "source": [
    "# Save cleaned data for further steps\n",
    "df.to_csv(\"cleaned_events.csv\", index=False)\n",
    "print(\"\\nCleaned dataset saved as 'cleaned_events.csv'\")\n"
   ]
  },
  {
   "cell_type": "code",
   "execution_count": null,
   "id": "2b8e5475-c797-4371-ab5f-147a7366b9e9",
   "metadata": {},
   "outputs": [],
   "source": []
  }
 ],
 "metadata": {
  "kernelspec": {
   "display_name": "Python 3 (ipykernel)",
   "language": "python",
   "name": "python3"
  },
  "language_info": {
   "codemirror_mode": {
    "name": "ipython",
    "version": 3
   },
   "file_extension": ".py",
   "mimetype": "text/x-python",
   "name": "python",
   "nbconvert_exporter": "python",
   "pygments_lexer": "ipython3",
   "version": "3.10.7"
  }
 },
 "nbformat": 4,
 "nbformat_minor": 5
}
